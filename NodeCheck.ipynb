{
 "cells": [
  {
   "cell_type": "markdown",
   "metadata": {},
   "source": [
    "## The Measurement Cloud system "
   ]
  },
  {
   "cell_type": "markdown",
   "metadata": {},
   "source": [
    "Most tools in bash shell can run also from this notebook: "
   ]
  },
  {
   "cell_type": "code",
   "execution_count": 32,
   "metadata": {},
   "outputs": [],
   "source": [
    "%matplotlib inline\n",
    ""
   ]
  },
  {
   "cell_type": "code",
   "execution_count": 33,
   "metadata": {},
   "outputs": [
    {
     "name": "stdout",
     "output_type": "stream",
     "text": [
      "[0, 1, 2, 3, 5, 7, 9, 11, 13]\n"
     ]
    }
   ],
   "source": [
    "x = [0,1,2,3,5,7,9,11,13]\n",
    "print (x)"
   ]
  },
  {
   "cell_type": "raw",
   "metadata": {},
   "source": [
    "Measurements discussions can details here your maths and differential equations:\n",
    "$$ \\beta / \\rho $$\n",
    "\\begin{eqnarray}\n",
    "\\nabla \\times \\vec{\\mathbf{B}} -\\, \\frac1c\\, \\frac{\\partial\\vec{\\mathbf{E}}}{\\partial t} & = \\frac{4\\pi}{c}\\vec{\\mathbf{j}} \\\\\n",
    "\\nabla \\cdot \\vec{\\mathbf{E}} & = 4 \\pi \\rho \\\\\n",
    "\\nabla \\times \\vec{\\mathbf{E}}\\, +\\, \\frac1c\\, \\frac{\\partial\\vec{\\mathbf{B}}}{\\partial t} & = \\vec{\\mathbf{0}} \\\\\n",
    "\\nabla \\cdot \\vec{\\mathbf{B}} & = 0\n",
    "\\end{eqnarray}"
   ]
  },
  {
   "cell_type": "code",
   "execution_count": 34,
   "metadata": {},
   "outputs": [
    {
     "name": "stdout",
     "output_type": "stream",
     "text": [
      " For security, keep a protected minimal bash   ['Linux jupyter-jupyterlab-2djupyterlab-2ddemo-2djjlv56aj 4.14.127+ #1 SMP Tue Jun 18 23:08:40 PDT 2019 x86_64 x86_64 x86_64 GNU/Linux'] ['big.csv', 'data', 'j2.ipynb', 'jupyterlab.md', 'jupyterlab-slides.pdf', 'lorenz.py', 'markdown_python.md', 'notebooks', '__pycache__', 'TCGA_Data']\n"
     ]
    }
   ],
   "source": [
    "a= !uname -a  # ps -edalf\n",
    "b= !ls\n",
    "print (  \"\"\" For security, keep a protected minimal bash \"\"\" , a, b)"
   ]
  },
  {
   "cell_type": "code",
   "execution_count": 35,
   "metadata": {},
   "outputs": [
    {
     "data": {
      "text/latex": [
       "\\begin{eqnarray}\n",
       "\\dot{x} & = 2\\pi\\lambda +\\sigma(y-x) \\times  \n",
       "\\end{eqnarray}\n"
      ],
      "text/plain": [
       "<IPython.core.display.Latex object>"
      ]
     },
     "metadata": {},
     "output_type": "display_data"
    }
   ],
   "source": [
    " %%latex\n",
    "\\begin{eqnarray}\n",
    "\\dot{x} & = 2\\pi\\lambda +\\sigma(y-x) \\times  \n",
    "\\end{eqnarray}"
   ]
  }
 ],
 "metadata": {
  "kernelspec": {
   "display_name": "Python 3",
   "language": "python",
   "name": "python3"
  },
  "language_info": {
   "codemirror_mode": {
    "name": "ipython",
    "version": 3
   },
   "file_extension": ".py",
   "mimetype": "text/x-python",
   "name": "python",
   "nbconvert_exporter": "python",
   "pygments_lexer": "ipython3",
   "version": "3.7.3"
  }
 },
 "nbformat": 4,
 "nbformat_minor": 4
}
